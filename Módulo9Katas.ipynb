{
  "cells": [
    {
      "cell_type": "markdown",
      "metadata": {},
      "source": [
        "# Ejercicio: Uso de funciones en Python"
      ]
    },
    {
      "cell_type": "markdown",
      "metadata": {},
      "source": [
        "### Ejercicio 1: Trabajar con argumentos en funciones\n",
        "\n",
        "Los argumentos requeridos en las funciones se utilizan cuando las funciones necesitan que esos argumentos funcionen correctamente. En este ejercicio, construirás un informe de combustible que requiere información de varias ubicaciones de combustible en todo el cohete.\n",
        "\n"
      ]
    },
    {
      "cell_type": "markdown",
      "metadata": {},
      "source": [
        "> **TIP**\n",
        "> Dedica unos minutos para tratar de encontrar una solución. Luego desplázate hacia abajo hasta la parte inferior para ver si has logrado compilar el programa de acuerdo con las especificaciones\n",
        "\n",
        "Comienza por crear una función que necesite tres lecturas de combustible y devuelva un informe:"
      ]
    },
    {
      "cell_type": "code",
      "execution_count": 66,
      "metadata": {},
      "outputs": [],
      "source": [
        "# Función para leer 3 tanques de combustible y muestre el promedio\n",
        "def combustible(tanque1, tanque2, tanque3):\n",
        "    promedio = (tanque1 + tanque2 + tanque3) / 3\n",
        "    return(print(f' El promedio de combustible en los tres tanques es de: {promedio}'))"
      ]
    },
    {
      "cell_type": "markdown",
      "metadata": {},
      "source": [
        "Ahora que hemos definido la función de informes, vamos a comprobarlo. Para esta misión, los tanques no están llenos:"
      ]
    },
    {
      "cell_type": "code",
      "execution_count": 67,
      "metadata": {},
      "outputs": [
        {
          "name": "stdout",
          "output_type": "stream",
          "text": [
            " El promedio de combustible en los tres tanques es de: 3.0\n"
          ]
        }
      ],
      "source": [
        "\n",
        "# Llamamos a la función que genera el reporte print(funcion(tanque1, tanque2, tanque3))\n",
        "combustible(3,3,3)"
      ]
    },
    {
      "cell_type": "markdown",
      "metadata": {},
      "source": [
        "En lugar de simplemente crear el informe, la función también está calculando el promedio. Mejora la legibilidad extrayendo el cálculo promedio de la función en una nueva función para que el promedio se pueda hacer de forma independiente:"
      ]
    },
    {
      "cell_type": "code",
      "execution_count": 68,
      "metadata": {},
      "outputs": [],
      "source": [
        "# Función promedio \n",
        "def promedio(*arg):\n",
        "    total = sum(arg)\n",
        "    numero_argumentos = len(arg)\n",
        "    promedio = total / numero_argumentos\n",
        "    return(promedio)\n"
      ]
    },
    {
      "cell_type": "markdown",
      "metadata": {},
      "source": [
        "Ahora actualiza la función de informes para llamando a la nueva función del promedio:\n"
      ]
    },
    {
      "cell_type": "code",
      "execution_count": 69,
      "metadata": {},
      "outputs": [
        {
          "name": "stdout",
          "output_type": "stream",
          "text": [
            " El promedio de combustible en los tres tanques es de: 3.0\n"
          ]
        }
      ],
      "source": [
        "# Actualiza la función\n",
        "def combustible(tanque1, tanque2, tanque3):\n",
        "    avg = promedio(tanque1,tanque2,tanque3)\n",
        "    return(print(f' El promedio de combustible en los tres tanques es de: {avg}'))\n",
        "#Llamando a la función\n",
        "combustible(3,3,3)"
      ]
    },
    {
      "cell_type": "markdown",
      "metadata": {},
      "source": [
        "> Recuerda: Lo importante es intentarlo, puedes auxiliarte de internet, libros, etc. El objetivo de una kata es la comprobación de la comprensión de la lección y su aplicación inmediata a la resolución de problemas. Go for it!"
      ]
    },
    {
      "cell_type": "markdown",
      "metadata": {},
      "source": [
        "## Ejercicio 2: Trabajo con argumentos de palabra clave"
      ]
    },
    {
      "cell_type": "markdown",
      "metadata": {},
      "source": [
        "### Ejercicio : Trabajar con argumentos de palabras clave en funciones\n",
        "En este ejercicio, construirás un informe de cohete que requiere varias piezas de información, como el tiempo hasta el destino, el combustible a la izquierda y el nombre del destino. Comienza por crear una función que creará un informe preciso de la misión:"
      ]
    },
    {
      "cell_type": "code",
      "execution_count": 70,
      "metadata": {},
      "outputs": [
        {
          "name": "stdout",
          "output_type": "stream",
          "text": [
            "Hora de lanzamiento: 13 horas \n",
            "Tiempo de vuelo: 45 minutos         \n",
            "Destino de la misión: Mars \n",
            "Combustible en la nave: 3000 litros\n"
          ]
        }
      ],
      "source": [
        "# Función con un informe preciso de la misión. Considera hora de prelanzamiento, tiempo de vuelo, destino, tanque externo y tanque interno\n",
        "def informe(hora, tiempo, destino, tanq_ext, tanq_int):\n",
        "    return('Hora de lanzamiento: %s horas \\nTiempo de vuelo: %s minutos\\\n",
        "         \\nDestino de la misión: %s \\nCombustible en la nave: %s litros'\\\n",
        "          %(hora, tiempo, destino,(tanq_ext + tanq_int)))\n",
        "\n",
        "print(informe(13, 45, 'Mars', 1000, 2000))    "
      ]
    },
    {
      "cell_type": "markdown",
      "metadata": {},
      "source": [
        "La función es problemática porque no se puede adaptar para minutos adicionales o tanques adicionales de combustible. Hazlo más flexible permitiendo cualquier número de pasos basados en el tiempo y cualquier número de tanques. En lugar de usar `*args` y `**kwargs`, aprovecha el hecho de que puedes usar cualquier nombre que desees. Asegurate que la función sea más legible mediante el uso de nombres de variables que están asociados con las entradas, como `*minutes` y `**fuel_reservoirs`:"
      ]
    },
    {
      "cell_type": "code",
      "execution_count": 75,
      "metadata": {},
      "outputs": [
        {
          "name": "stdout",
          "output_type": "stream",
          "text": [
            "Tiempo de vuelo: 58 minutos         \n",
            "Destino de la misión: Mars          \n",
            "Combustible en la nave: 3000 litros\n"
          ]
        }
      ],
      "source": [
        "# Escribe tu nueva función de reporte considerando lo ante\n",
        "def informe(destino,*tiempo,**combustible):\n",
        "    return('Tiempo de vuelo: %s minutos\\\n",
        "         \\nDestino de la misión: %s\\\n",
        "          \\nCombustible en la nave: %s litros'\\\n",
        "          %(sum(tiempo), destino,sum(combustible.values())))\n",
        "    \n",
        "\n",
        "print(informe('Mars',13, 45, int = 1000, ext = 2000))    "
      ]
    },
    {
      "cell_type": "markdown",
      "metadata": {},
      "source": [
        "Debido a que el combustible que queda en los tanques es específico de cada tanque, actualiza la función para usar el nombre de cada tanque en el informe:"
      ]
    },
    {
      "cell_type": "code",
      "execution_count": 74,
      "metadata": {},
      "outputs": [
        {
          "name": "stdout",
          "output_type": "stream",
          "text": [
            "\n",
            "   Tiempo de vuelo: 58 minutos\n",
            "    Destino de la misión: Mars\n",
            "    Combustible en la nave: 3000 litros\n",
            "    Tanque int--> 1000 litros restantes\n",
            "Tanque ext--> 2000 litros restantes\n",
            "\n"
          ]
        }
      ],
      "source": [
        "# Escribe tu nueva función\n",
        "def informe(destino, *tiempo, **combustible):\n",
        "    informe = f\"\"\"\n",
        "   Tiempo de vuelo: {sum(tiempo)} minutos\n",
        "    Destino de la misión: {destino}\n",
        "    Combustible en la nave: {sum(combustible.values())} litros\n",
        "    \"\"\"\n",
        "    for tank_name, litros in combustible.items():\n",
        "        informe += f\"Tanque {tank_name}--> {litros} litros restantes\\n\"\n",
        "    return informe\n",
        "\n",
        "print(informe('Mars',13, 45, int = 1000, ext = 2000))    "
      ]
    },
    {
      "cell_type": "markdown",
      "metadata": {},
      "source": [
        "---\n",
        "\n",
        "Curso Propedútico de Python para Launch X - Innovacción Virtual.\n",
        "\n",
        "Material desarrollado con base en los contenidos de MSLearn y la metáfora de LaunchX, traducción e implementación por: Fernanda Ochoa - Learning Producer de LaunchX.\n",
        "\n",
        "Redes:\n",
        "* GitHub: [FernandaOchoa](https://github.com/FernandaOchoa)\n",
        "* Twitter: [@imonsh](https://twitter.com/imonsh)\n",
        "* Instagram: [fherz8a](https://www.instagram.com/fherz8a/)"
      ]
    }
  ],
  "metadata": {
    "interpreter": {
      "hash": "205095b8b86ea82a021a8fc2ffba2b3bc9f8d0be25999901963b225939f75778"
    },
    "kernelspec": {
      "display_name": "Python 3.8.10 64-bit ('tmp': conda)",
      "name": "python3"
    },
    "language_info": {
      "codemirror_mode": {
        "name": "ipython",
        "version": 3
      },
      "file_extension": ".py",
      "mimetype": "text/x-python",
      "name": "python",
      "nbconvert_exporter": "python",
      "pygments_lexer": "ipython3",
      "version": "3.10.2"
    },
    "nteract": {
      "version": "nteract-front-end@1.0.0"
    },
    "orig_nbformat": 4
  },
  "nbformat": 4,
  "nbformat_minor": 2
}
